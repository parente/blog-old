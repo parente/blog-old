{
 "cells": [
  {
   "cell_type": "markdown",
   "metadata": {},
   "source": [
    "### Summary\n",
    "\n",
    "IPython's `display()` function can return a `DisplayHandle` object. You can use a `DisplayHandle` to update the output of one cell from any other cell in a Jupyter Notebook.\n",
    "\n",
    "### Example\n",
    "\n",
    "[![Binder](https://mybinder.org/badge.svg)](https://mybinder.org/v2/gist/parente/5cab90125191d523e76fcb398f30da05/master?filepath=display_handle.ipynb)\n",
    "\n",
    "The `display_handle.ipynb` notebook below calls `display(display_id=True)` to get a display handle instance. It then uses the `DisplayHandle.display` method to show some initial, static Markdown. Later, in a different cell, it calls `DisplayHandle.update` in a loop to show a range of emoji characters.\n",
    "\n",
    "### Why is this useful?\n",
    "\n",
    "You can use display handles to redraw matplotlib plots, re-render DataFrame tables, print log file updates, etc. from code executed anywhere in the notebook."
   ]
  },
  {
   "cell_type": "markdown",
   "metadata": {},
   "source": [
    "<h4 class=\"embedFilename\"><i class=\"fa fa-file\" aria-hidden=\"true\"></i> display_handle.ipynb</h4>"
   ]
  },
  {
   "cell_type": "code",
   "execution_count": null,
   "metadata": {},
   "outputs": [],
   "source": [
    "import itertools\n",
    "import time\n",
    "\n",
    "from IPython.display import Markdown"
   ]
  },
  {
   "cell_type": "markdown",
   "metadata": {},
   "source": [
    "Make a display handle."
   ]
  },
  {
   "cell_type": "code",
   "execution_count": null,
   "metadata": {},
   "outputs": [],
   "source": [
    "dh = display(display_id=True)"
   ]
  },
  {
   "cell_type": "markdown",
   "metadata": {},
   "source": [
    "Show some Markdown (or plain text, or a plot, or ...)"
   ]
  },
  {
   "cell_type": "code",
   "execution_count": null,
   "metadata": {},
   "outputs": [],
   "source": [
    "display(Markdown('# Display Update Fun'))\n",
    "dh.display(Markdown(''))"
   ]
  },
  {
   "cell_type": "markdown",
   "metadata": {},
   "source": [
    "Update the display above. "
   ]
  },
  {
   "cell_type": "code",
   "execution_count": null,
   "metadata": {},
   "outputs": [],
   "source": [
    "for i in itertools.cycle(range(0x1F600, 0x1F650)):\n",
    "    dh.update(Markdown(f'## &#{i}; {hex(i)}'))\n",
    "    time.sleep(0.5)"
   ]
  }
 ],
 "metadata": {},
 "nbformat": 4,
 "nbformat_minor": 2
}
