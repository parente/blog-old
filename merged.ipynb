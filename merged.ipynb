{
 "cells": [
  {
   "cell_type": "markdown",
   "metadata": {},
   "source": [
    "### Summary\n",
    "\n",
    "[Many modern web browsers](https://caniuse.com/#feat=speech-synthesis) provide a speech synthesis API for JavaScript.\n",
    "You can write and invoke a function to have your notebook speak when it finishes executing certain cells, whether \n",
    "you're running it JupyterLab (>=0.34) or classic Jupyter Notebook.\n",
    "\n",
    "```python\n",
    "def speak(text):\n",
    "    from IPython.display import Javascript as js, clear_output\n",
    "    # Escape single quotes\n",
    "    text = text.replace(\"'\", r\"\\'\")\n",
    "    display(js('''\n",
    "    if(window.speechSynthesis) {{\n",
    "        var synth = window.speechSynthesis;\n",
    "        synth.speak(new window.SpeechSynthesisUtterance('{text}'));\n",
    "    }}\n",
    "    '''.format(text=text)))\n",
    "    # Clear the JS so that the notebook doesn't speak again when reopened/refreshed\n",
    "    clear_output(False)\n",
    "```\n",
    "\n",
    "### Example\n",
    "\n",
    "* [![Binder](https://mybinder.org/badge.svg)](https://mybinder.org/v2/gist/parente/41a13f4c8fa6165d345cc7703be291a3/master?filepath=demo.ipynb) (Jupyter Notebook)\n",
    "* [![Binder](https://mybinder.org/badge.svg)](https://mybinder.org/v2/gist/parente/41a13f4c8fa6165d345cc7703be291a3/master?urlpath=lab/tree/demo.ipynb) (JupyterLab)\n",
    "\n",
    "When I open the `demo.ipynb` notebook below and `Run All` cells, I hear the notebook speak aloud when it finishes\n",
    "executing the first and second loops.\n",
    "\n",
    "### Why is this useful?\n",
    "\n",
    "You can add notifications at select locations in your notebook to report execution progress even while you're not\n",
    "looking at the notebook\n",
    "\n",
    "### Alternatives\n",
    "\n",
    "You can also use the `%%javascript` cell magic to achieve the same net effect in Jupyter Notebook. \n",
    "\n",
    "```javascript\n",
    "%%javascript\n",
    "if(window.speechSynthesis) {{\n",
    "    var synth = window.speechSynthesis;\n",
    "    synth.speak(new window.SpeechSynthesisUtterance('All done!'));\n",
    "    setTimeout(this.clear_output.bind(this), 0);\n",
    "}}\n",
    "```\n",
    "\n",
    "However, the same code doesn't properly clear the JS from the notebook document in JupyterLab, \n",
    "and the notebook speaks immediately when opened unless you clear the cell output manually.\n",
    "\n",
    "The [jupyter_contrib_nbextensions project](https://github.com/ipython-contrib/jupyter_contrib_nbextensions/) \n",
    "includes a [notify](https://jupyter-contrib-nbextensions.readthedocs.io/en/latest/nbextensions/notify/readme.html) \n",
    "extension for Jupyter Notebook which can show desktop popups and play a sounds when unattended notebooks become\n",
    "idle.\n"
   ]
  },
  {
   "cell_type": "markdown",
   "metadata": {},
   "source": [
    "<h4 class=\"embedFilename\"><i class=\"fa fa-file\" aria-hidden=\"true\"></i> demo.ipynb</h4>"
   ]
  },
  {
   "cell_type": "code",
   "execution_count": 1,
   "metadata": {},
   "outputs": [],
   "source": [
    "def speak(text):\n",
    "    from IPython.display import Javascript as js, clear_output\n",
    "    # Escape single quotes\n",
    "    text = text.replace(\"'\", r\"\\'\")\n",
    "    display(js(f'''\n",
    "    if(window.speechSynthesis) {{\n",
    "        var synth = window.speechSynthesis;\n",
    "        synth.speak(new window.SpeechSynthesisUtterance('{text}'));\n",
    "    }}\n",
    "    '''))\n",
    "    # Clear the JS so that the notebook doesn't speak again when reopened/refreshed\n",
    "    clear_output(False)"
   ]
  },
  {
   "cell_type": "code",
   "execution_count": 2,
   "metadata": {},
   "outputs": [],
   "source": [
    "for i in range(int(1e8)): pass\n",
    "speak(\"I'm done with the first loop.\")"
   ]
  },
  {
   "cell_type": "code",
   "execution_count": 3,
   "metadata": {},
   "outputs": [],
   "source": [
    "for i in range(int(1e8)): pass"
   ]
  },
  {
   "cell_type": "code",
   "execution_count": 4,
   "metadata": {},
   "outputs": [],
   "source": [
    "speak(\"Now I'm really done!\")"
   ]
  }
 ],
 "metadata": {},
 "nbformat": 4,
 "nbformat_minor": 2
}
