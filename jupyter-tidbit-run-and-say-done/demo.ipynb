{
 "cells": [
  {
   "cell_type": "code",
   "execution_count": 1,
   "metadata": {},
   "outputs": [],
   "source": [
    "def speak(text):\n",
    "    from IPython.display import Javascript as js, clear_output\n",
    "    # Escape single quotes\n",
    "    text = text.replace(\"'\", r\"\\'\")\n",
    "    display(js(f'''\n",
    "    if(window.speechSynthesis) {{\n",
    "        var synth = window.speechSynthesis;\n",
    "        synth.speak(new window.SpeechSynthesisUtterance('{text}'));\n",
    "    }}\n",
    "    '''))\n",
    "    # Clear the JS so that the notebook doesn't speak again when reopened/refreshed\n",
    "    clear_output(False)"
   ]
  },
  {
   "cell_type": "code",
   "execution_count": 2,
   "metadata": {},
   "outputs": [],
   "source": [
    "for i in range(int(1e8)): pass\n",
    "speak(\"I'm done with the first loop.\")"
   ]
  },
  {
   "cell_type": "code",
   "execution_count": 3,
   "metadata": {},
   "outputs": [],
   "source": [
    "for i in range(int(1e8)): pass"
   ]
  },
  {
   "cell_type": "code",
   "execution_count": 4,
   "metadata": {},
   "outputs": [],
   "source": [
    "speak(\"Now I'm really done!\")"
   ]
  }
 ],
 "metadata": {
  "kernelspec": {
   "display_name": "Python 3",
   "language": "python",
   "name": "python3"
  },
  "language_info": {
   "codemirror_mode": {
    "name": "ipython",
    "version": 3
   },
   "file_extension": ".py",
   "mimetype": "text/x-python",
   "name": "python",
   "nbconvert_exporter": "python",
   "pygments_lexer": "ipython3",
   "version": "3.6.5"
  }
 },
 "nbformat": 4,
 "nbformat_minor": 2
}
