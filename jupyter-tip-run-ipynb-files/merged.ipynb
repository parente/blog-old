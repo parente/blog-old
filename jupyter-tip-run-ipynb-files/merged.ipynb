{
 "cells": [
  {
   "cell_type": "markdown",
   "metadata": {},
   "source": [
    "### Summary\n",
    "\n",
    "The `%run` magic provided by IPython not only supports the execution of regular Python scripts, it also runs Jupyter Notebook files (.ipynb). \n",
    "\n",
    "### Example\n",
    "\n",
    "[![Binder](https://mybinder.org/badge.svg)](https://mybinder.org/v2/gist/parente/8932dac5a430dba4c17f49af16568da7/master)\n",
    "\n",
    "The `run_demo.ipynb` notebook below uses `%run` to execute all of the cells in `reusable_stuff.ipynb`. Once it does, both globals defined in `reusable_stuff` are available in `run_demo` for use.\n",
    "\n",
    "### Why is this useful?\n",
    "\n",
    "You can maintain a handy notebook of useful recipes that you can than `%run` to reuse in other notebooks. Just remember that this setup can *decrease* the reproducibility of your work unless you provide your recipe notebook alongside any notebook that uses it when you share."
   ]
  },
  {
   "cell_type": "markdown",
   "metadata": {},
   "source": [
    "<h4 class=\"embedFilename\"><i class=\"fa fa-file\" aria-hidden=\"true\"></i> reusable_stuff.ipynb</h4>"
   ]
  },
  {
   "cell_type": "code",
   "execution_count": 1,
   "metadata": {},
   "outputs": [],
   "source": [
    "def super_useful_thing():\n",
    "    return 'not really'"
   ]
  },
  {
   "cell_type": "code",
   "execution_count": 2,
   "metadata": {},
   "outputs": [],
   "source": [
    "x = 'from reusable stuff'"
   ]
  },
  {
   "cell_type": "markdown",
   "metadata": {},
   "source": [
    "<h4 class=\"embedFilename\"><i class=\"fa fa-file\" aria-hidden=\"true\"></i> run_demo.ipynb</h4>"
   ]
  },
  {
   "cell_type": "code",
   "execution_count": 10,
   "metadata": {},
   "outputs": [],
   "source": [
    "x = 1"
   ]
  },
  {
   "cell_type": "markdown",
   "metadata": {},
   "source": [
    "Execute the cells in `reusable_stuff.ipynb` in the current kernel namespace."
   ]
  },
  {
   "cell_type": "code",
   "execution_count": 11,
   "metadata": {},
   "outputs": [],
   "source": [
    "%run reusable_stuff.ipynb"
   ]
  },
  {
   "cell_type": "code",
   "execution_count": 12,
   "metadata": {},
   "outputs": [
    {
     "data": {
      "text/plain": [
       "'not really'"
      ]
     },
     "execution_count": 12,
     "metadata": {},
     "output_type": "execute_result"
    }
   ],
   "source": [
    "super_useful_thing()"
   ]
  },
  {
   "cell_type": "code",
   "execution_count": 13,
   "metadata": {},
   "outputs": [
    {
     "data": {
      "text/plain": [
       "'from reusable stuff'"
      ]
     },
     "execution_count": 13,
     "metadata": {},
     "output_type": "execute_result"
    }
   ],
   "source": [
    "x"
   ]
  }
 ],
 "metadata": {},
 "nbformat": 4,
 "nbformat_minor": 2
}
